{
 "cells": [
  {
   "cell_type": "markdown",
   "metadata": {},
   "source": [
    "# Alpha-Beta Community Detection\n",
    "This is a demonstration of the alpha-beta community detection algorithm. You may use the binder service to run this notebook.\n",
    "\n"
   ]
  },
  {
   "cell_type": "markdown",
   "metadata": {},
   "source": [
    "## Preliminaries"
   ]
  },
  {
   "cell_type": "markdown",
   "metadata": {},
   "source": [
    "Run the following cell to import the required library."
   ]
  },
  {
   "cell_type": "code",
   "execution_count": 2,
   "metadata": {
    "ExecuteTime": {
     "end_time": "2018-10-26T02:24:33.148842Z",
     "start_time": "2018-10-26T02:24:32.773018Z"
    },
    "scrolled": true
   },
   "outputs": [
    {
     "name": "stderr",
     "output_type": "stream",
     "text": [
      "/srv/conda/lib/python3.6/importlib/_bootstrap.py:219: RuntimeWarning: to-Python converter for IBFS::IBFSStats already registered; second conversion method ignored.\n",
      "  return f(*args, **kwds)\n",
      "/srv/conda/lib/python3.6/importlib/_bootstrap.py:219: RuntimeWarning: to-Python converter for IBFS::IBFSGraph already registered; second conversion method ignored.\n",
      "  return f(*args, **kwds)\n"
     ]
    }
   ],
   "source": [
    "import abcommunity\n",
    "import networkx as nx\n",
    "import numpy as np\n",
    "import matplotlib.pyplot as plt\n",
    "%matplotlib inline"
   ]
  },
  {
   "cell_type": "markdown",
   "metadata": {},
   "source": [
    "The following are functions that help present the clustering solutions. You can modify them to show the results according to your preferences."
   ]
  },
  {
   "cell_type": "code",
   "execution_count": 21,
   "metadata": {
    "ExecuteTime": {
     "end_time": "2018-10-26T02:24:33.159769Z",
     "start_time": "2018-10-26T02:24:33.150473Z"
    }
   },
   "outputs": [],
   "source": [
    "def get_modularity_from_cluster(G, cluster):\n",
    "    get_id_from_vertex = {}\n",
    "    for i, v in enumerate(G.nodes):\n",
    "        get_id_from_vertex[v] = i\n",
    "    # map node id to index id (the node may not start from zero, continuous from 0 to |N|, e.t.c)\n",
    "    cluster = [[get_id_from_vertex[v] for v in c] for c in cluster]\n",
    "    # cluster is a list of list\n",
    "    B = nx.modularity_matrix(G)\n",
    "    modularity = 0\n",
    "    for community in cluster:\n",
    "        c = list(community)\n",
    "        modularity += np.sum(B[c][:, c])\n",
    "    modularity = modularity / (2 * G.number_of_edges())\n",
    "    return modularity\n",
    "\n",
    "def print_solution(solution_dict):\n",
    "    # solution_dict is a dictionary, keys are the tensile strength, values are the corresponding cluster\n",
    "    for alpha, cluster in sorted(solution_dict.items()):\n",
    "        print('alpha: ', alpha)\n",
    "        print('cluster: ', [set(community) for community in cluster])\n",
    "        print()"
   ]
  },
  {
   "cell_type": "markdown",
   "metadata": {},
   "source": [
    "## Examples\n",
    "We can now run the clustering algorithms on some simple examples and compare them with other algorithms."
   ]
  },
  {
   "cell_type": "markdown",
   "metadata": {},
   "source": [
    "### A simple graph with a triangle and a line"
   ]
  },
  {
   "cell_type": "markdown",
   "metadata": {},
   "source": [
    "The following defines a digraph and its undirected counterpart."
   ]
  },
  {
   "cell_type": "code",
   "execution_count": 11,
   "metadata": {
    "ExecuteTime": {
     "end_time": "2018-10-26T02:24:33.193145Z",
     "start_time": "2018-10-26T02:24:33.184513Z"
    }
   },
   "outputs": [],
   "source": [
    "D = nx.DiGraph()\n",
    "D.add_edges_from([(0, 1, {'weight': 1}), \n",
    "                   (1, 2, {'weight': 1}), \n",
    "                   (2, 0, {'weight': 1}), \n",
    "                   (3, 4, {'weight': 1})])\n",
    "G = D.to_undirected()"
   ]
  },
  {
   "cell_type": "markdown",
   "metadata": {},
   "source": [
    "#### Alpha-Beta community detection on the digraph"
   ]
  },
  {
   "cell_type": "markdown",
   "metadata": {},
   "source": [
    "To run the alpha-beta community detection:"
   ]
  },
  {
   "cell_type": "code",
   "execution_count": 12,
   "metadata": {
    "ExecuteTime": {
     "end_time": "2018-10-26T02:24:33.203931Z",
     "start_time": "2018-10-26T02:24:33.194605Z"
    },
    "scrolled": true
   },
   "outputs": [
    {
     "name": "stderr",
     "output_type": "stream",
     "text": [
      "[Parallel(n_jobs=1)]: Done   5 out of   5 | elapsed:    0.0s finished\n",
      "[Parallel(n_jobs=1)]: Done   2 out of   2 | elapsed:    0.0s finished\n"
     ]
    }
   ],
   "source": [
    "abcomm = abcommunity.ABCommunity(G=D, beta=1, weight='weight')\n",
    "abcomm.fit()"
   ]
  },
  {
   "cell_type": "markdown",
   "metadata": {},
   "source": [
    "To obtain the documentation:"
   ]
  },
  {
   "cell_type": "code",
   "execution_count": 6,
   "metadata": {
    "scrolled": true
   },
   "outputs": [
    {
     "name": "stdout",
     "output_type": "stream",
     "text": [
      "Help on GameClustering in module game_clustering.game_clustering object:\n",
      "\n",
      "class GameClustering(builtins.object)\n",
      " |  Methods defined here:\n",
      " |  \n",
      " |  __init__(self, G, beta, weight=None, ignore_nodes=set(), find_weaker_cluster=True, n_jobs=1, verbose=0)\n",
      " |      Initialize self.  See help(type(self)) for accurate signature.\n",
      " |  \n",
      " |  directed_cut_size(self, S, T=None)\n",
      " |  \n",
      " |  f_a_b(self, community, alpha)\n",
      " |  \n",
      " |  f_a_b_seperate(self, community)\n",
      " |  \n",
      " |  find_a_b_communitites_ibfs(self, j, alpha, ignore_nodes, verbose)\n",
      " |  \n",
      " |  find_alpha_ps(self, j, ignore_nodes, current_best_y_intercept, verbose, find_first_turning_pt_only=False)\n",
      " |  \n",
      " |  find_dominate_community(self, ignore_nodes, find_first_turning_pt_only=False)\n",
      " |      find_dominate_community\n",
      " |      Parameters\n",
      " |      -----------\n",
      " |      G: a networkx DiGraph\n",
      " |      beta: float, [0,1]\n",
      " |          the beta value in alpha-beta communities\n",
      " |      weight: string, optional\n",
      " |          the attribute name of the weight, if not provided, we treat it as \n",
      " |          an unweighted graph\n",
      " |      ignore_nodes: frozenset or set\n",
      " |          a set of integer representing the node we want to ignore,\n",
      " |          these nodes will be contracted to the source node when doing maxflow mincut\n",
      " |      verbose : int, default: 0\n",
      " |          control how much output message to show, can be 0, 1 or 2\n",
      " |      \n",
      " |      -----------\n",
      " |      Return\n",
      " |      best_ps : dict\n",
      " |          keys are integers, denoting the cardinality\n",
      " |          values are set denoting the set of vertices,\n",
      " |      alpha_solution : dict\n",
      " |          keys are integers, denoting the cardinality\n",
      " |          values are the alpha values,\n",
      " |  \n",
      " |  fit(self)\n",
      " |      Discover weaker communities recursively until there are only\n",
      " |      stop_n_node unlabled nodes\n",
      " |      -----------\n",
      " |      Return\n",
      " |      solutions : dict\n",
      " |          keys are alpha lower bound\n",
      " |          values are set of set: denoting the partition\n",
      " |  \n",
      " |  get_strength(self)\n",
      " |      Discover weaker communities recursively until there are only\n",
      " |      stop_n_node unlabled nodes\n",
      " |      -----------\n",
      " |      Return\n",
      " |      solutions : dict\n",
      " |          keys are alpha lower bound\n",
      " |          values are set of set: denoting the partition\n",
      " |  \n",
      " |  get_vertex_id_mapping(self, ignore_nodes)\n",
      " |  \n",
      " |  ----------------------------------------------------------------------\n",
      " |  Data descriptors defined here:\n",
      " |  \n",
      " |  __dict__\n",
      " |      dictionary for instance variables (if defined)\n",
      " |  \n",
      " |  __weakref__\n",
      " |      list of weak references to the object (if defined)\n",
      " |  \n",
      " |  ----------------------------------------------------------------------\n",
      " |  Data and other attributes defined here:\n",
      " |  \n",
      " |  __slotnames__ = []\n",
      "\n"
     ]
    }
   ],
   "source": [
    "help(abcomm)"
   ]
  },
  {
   "cell_type": "markdown",
   "metadata": {},
   "source": [
    "To get the clustering solution:"
   ]
  },
  {
   "cell_type": "code",
   "execution_count": 10,
   "metadata": {
    "ExecuteTime": {
     "end_time": "2018-10-26T02:24:33.226924Z",
     "start_time": "2018-10-26T02:24:33.220007Z"
    }
   },
   "outputs": [
    {
     "data": {
      "text/plain": [
       "{1.5: {frozenset({3}),\n",
       "  frozenset({2}),\n",
       "  frozenset({1}),\n",
       "  frozenset({4}),\n",
       "  frozenset({0})},\n",
       " 0.5: {frozenset({3, 4}), frozenset({0, 1, 2})},\n",
       " 0.0: {frozenset({0, 1, 2, 3, 4})},\n",
       " 1.0: {frozenset({3}), frozenset({4}), frozenset({0, 1, 2})}}"
      ]
     },
     "execution_count": 10,
     "metadata": {},
     "output_type": "execute_result"
    }
   ],
   "source": [
    "abcomm.solutions"
   ]
  },
  {
   "cell_type": "markdown",
   "metadata": {},
   "source": [
    "We can pretty print the solution using the helper function defined earlier:"
   ]
  },
  {
   "cell_type": "code",
   "execution_count": 23,
   "metadata": {
    "ExecuteTime": {
     "end_time": "2018-10-26T02:24:33.234546Z",
     "start_time": "2018-10-26T02:24:33.228587Z"
    }
   },
   "outputs": [
    {
     "name": "stdout",
     "output_type": "stream",
     "text": [
      "alpha:  0.0\n",
      "cluster:  [{0, 1, 2, 3, 4}]\n",
      "\n",
      "alpha:  0.5\n",
      "cluster:  [{3, 4}, {0, 1, 2}]\n",
      "\n",
      "alpha:  1.0\n",
      "cluster:  [{3}, {4}, {0, 1, 2}]\n",
      "\n",
      "alpha:  1.5\n",
      "cluster:  [{3}, {2}, {1}, {4}, {0}]\n",
      "\n"
     ]
    }
   ],
   "source": [
    "print_solution(abcomm.solutions)"
   ]
  },
  {
   "cell_type": "markdown",
   "metadata": {},
   "source": [
    "## A simple example shown in the paper"
   ]
  },
  {
   "cell_type": "code",
   "execution_count": 42,
   "metadata": {
    "ExecuteTime": {
     "end_time": "2018-10-26T02:24:33.259293Z",
     "start_time": "2018-10-26T02:24:33.251993Z"
    }
   },
   "outputs": [],
   "source": [
    "D = nx.DiGraph()\n",
    "D.add_edges_from([(1, 0, {'weight': 2}), \n",
    "                   (1, 2, {'weight': 1}), \n",
    "                   (2, 1, {'weight': 1})])"
   ]
  },
  {
   "cell_type": "code",
   "execution_count": 44,
   "metadata": {
    "ExecuteTime": {
     "end_time": "2018-10-26T02:24:33.282404Z",
     "start_time": "2018-10-26T02:24:33.272102Z"
    },
    "scrolled": true
   },
   "outputs": [
    {
     "name": "stdout",
     "output_type": "stream",
     "text": [
      "alpha:  0.0\n",
      "cluster:  [{0}, {1, 2}]\n",
      "\n",
      "alpha:  1.0\n",
      "cluster:  [{2}, {1}, {0}]\n",
      "\n"
     ]
    },
    {
     "name": "stderr",
     "output_type": "stream",
     "text": [
      "[Parallel(n_jobs=1)]: Done   3 out of   3 | elapsed:    0.0s finished\n"
     ]
    }
   ],
   "source": [
    "abcomm = abcommunity.ABCommunity(G=D, beta=0, weight='weight')\n",
    "abcomm.fit()\n",
    "print_solution(abcomm.solutions)"
   ]
  },
  {
   "cell_type": "markdown",
   "metadata": {},
   "source": [
    "### Ring Of Cliques"
   ]
  },
  {
   "cell_type": "code",
   "execution_count": 68,
   "metadata": {
    "ExecuteTime": {
     "end_time": "2018-10-26T02:24:33.296946Z",
     "start_time": "2018-10-26T02:24:33.292287Z"
    }
   },
   "outputs": [],
   "source": [
    "G = nx.ring_of_cliques(num_cliques=30, clique_size=5)"
   ]
  },
  {
   "cell_type": "code",
   "execution_count": 69,
   "metadata": {
    "ExecuteTime": {
     "end_time": "2018-10-26T02:24:35.195254Z",
     "start_time": "2018-10-26T02:24:33.298231Z"
    }
   },
   "outputs": [
    {
     "name": "stderr",
     "output_type": "stream",
     "text": [
      "[Parallel(n_jobs=1)]: Done 150 out of 150 | elapsed:    2.7s finished\n"
     ]
    }
   ],
   "source": [
    "abcomm = abcommunity.ABCommunity(G=G, beta=1)\n",
    "abcomm.fit()"
   ]
  },
  {
   "cell_type": "code",
   "execution_count": 70,
   "metadata": {
    "ExecuteTime": {
     "end_time": "2018-10-26T02:24:35.200510Z",
     "start_time": "2018-10-26T02:24:35.196715Z"
    }
   },
   "outputs": [
    {
     "name": "stdout",
     "output_type": "stream",
     "text": [
      "alpha:  0.0\n",
      "cluster:  [{0, 1, 2, 3, 4, 5, 6, 7, 8, 9, 10, 11, 12, 13, 14, 15, 16, 17, 18, 19, 20, 21, 22, 23, 24, 25, 26, 27, 28, 29, 30, 31, 32, 33, 34, 35, 36, 37, 38, 39, 40, 41, 42, 43, 44, 45, 46, 47, 48, 49, 50, 51, 52, 53, 54, 55, 56, 57, 58, 59, 60, 61, 62, 63, 64, 65, 66, 67, 68, 69, 70, 71, 72, 73, 74, 75, 76, 77, 78, 79, 80, 81, 82, 83, 84, 85, 86, 87, 88, 89, 90, 91, 92, 93, 94, 95, 96, 97, 98, 99, 100, 101, 102, 103, 104, 105, 106, 107, 108, 109, 110, 111, 112, 113, 114, 115, 116, 117, 118, 119, 120, 121, 122, 123, 124, 125, 126, 127, 128, 129, 130, 131, 132, 133, 134, 135, 136, 137, 138, 139, 140, 141, 142, 143, 144, 145, 146, 147, 148, 149}]\n",
      "\n",
      "alpha:  4.4137931\n",
      "cluster:  [{25, 26, 27, 28, 29}, {55, 56, 57, 58, 59}, {115, 116, 117, 118, 119}, {32, 33, 34, 30, 31}, {100, 101, 102, 103, 104}, {144, 140, 141, 142, 143}, {65, 66, 67, 68, 69}, {20, 21, 22, 23, 24}, {128, 129, 125, 126, 127}, {16, 17, 18, 19, 15}, {70, 71, 72, 73, 74}, {10, 11, 12, 13, 14}, {85, 86, 87, 88, 89}, {5, 6, 7, 8, 9}, {80, 81, 82, 83, 84}, {48, 49, 45, 46, 47}, {112, 113, 114, 110, 111}, {130, 131, 132, 133, 134}, {135, 136, 137, 138, 139}, {145, 146, 147, 148, 149}, {64, 60, 61, 62, 63}, {0, 1, 2, 3, 4}, {35, 36, 37, 38, 39}, {96, 97, 98, 99, 95}, {50, 51, 52, 53, 54}, {75, 76, 77, 78, 79}, {90, 91, 92, 93, 94}, {40, 41, 42, 43, 44}, {120, 121, 122, 123, 124}, {105, 106, 107, 108, 109}]\n",
      "\n",
      "alpha:  5.0\n",
      "cluster:  [{86}, {32}, {49}, {106}, {145}, {89}, {10}, {120}, {18}, {94}, {77}, {33}, {23}, {149}, {24}, {121}, {105}, {16}, {93}, {58}, {54}, {44}, {112}, {47}, {68}, {74}, {37}, {46}, {97}, {144}, {2}, {104}, {34}, {110}, {64}, {102}, {3}, {88}, {123}, {128}, {0}, {91}, {127}, {66}, {25}, {111}, {139}, {96}, {138}, {73}, {85}, {13}, {92}, {22}, {53}, {26}, {137}, {51}, {75}, {63}, {60}, {5}, {87}, {15}, {12}, {50}, {133}, {20}, {84}, {142}, {62}, {52}, {99}, {76}, {56}, {43}, {116}, {108}, {1}, {81}, {147}, {72}, {148}, {39}, {71}, {115}, {69}, {31}, {41}, {101}, {61}, {48}, {17}, {113}, {67}, {146}, {118}, {107}, {70}, {59}, {38}, {100}, {129}, {98}, {65}, {6}, {35}, {40}, {57}, {28}, {78}, {36}, {117}, {79}, {30}, {109}, {130}, {90}, {14}, {122}, {27}, {8}, {82}, {141}, {45}, {114}, {135}, {83}, {132}, {11}, {136}, {9}, {103}, {131}, {55}, {42}, {80}, {140}, {125}, {4}, {143}, {95}, {134}, {126}, {119}, {7}, {29}, {124}, {19}, {21}]\n",
      "\n"
     ]
    }
   ],
   "source": [
    "print_solution(abcomm.solutions)"
   ]
  },
  {
   "cell_type": "code",
   "execution_count": 75,
   "metadata": {
    "ExecuteTime": {
     "end_time": "2018-10-26T02:24:35.873909Z",
     "start_time": "2018-10-26T02:24:35.856709Z"
    }
   },
   "outputs": [
    {
     "data": {
      "text/plain": [
       "[frozenset({0, 1, 2, 3, 4, 5, 6, 7, 8, 9}),\n",
       " frozenset({10, 11, 12, 13, 14, 15, 16, 17, 18, 19}),\n",
       " frozenset({20, 21, 22, 23, 24, 25, 26, 27, 28, 29}),\n",
       " frozenset({30, 31, 32, 33, 34, 35, 36, 37, 38, 39}),\n",
       " frozenset({40, 41, 42, 43, 44, 45, 46, 47, 48, 49}),\n",
       " frozenset({50, 51, 52, 53, 54, 55, 56, 57, 58, 59}),\n",
       " frozenset({60, 61, 62, 63, 64, 65, 66, 67, 68, 69}),\n",
       " frozenset({70, 71, 72, 73, 74, 75, 76, 77, 78, 79}),\n",
       " frozenset({80, 81, 82, 83, 84, 85, 86, 87, 88, 89}),\n",
       " frozenset({90, 91, 92, 93, 94, 95, 96, 97, 98, 99}),\n",
       " frozenset({100, 101, 102, 103, 104, 105, 106, 107, 108, 109}),\n",
       " frozenset({110, 111, 112, 113, 114, 115, 116, 117, 118, 119}),\n",
       " frozenset({120, 121, 122, 123, 124, 125, 126, 127, 128, 129}),\n",
       " frozenset({130, 131, 132, 133, 134, 135, 136, 137, 138, 139}),\n",
       " frozenset({140, 141, 142, 143, 144, 145, 146, 147, 148, 149})]"
      ]
     },
     "execution_count": 75,
     "metadata": {},
     "output_type": "execute_result"
    }
   ],
   "source": [
    "# greedy modularity\n",
    "modularity_cluster = nx.algorithms.community.modularity_max.greedy_modularity_communities(G)\n",
    "modularity_cluster\n",
    "\n",
    "# modularity approach will group 2 consecutive cliques together"
   ]
  },
  {
   "cell_type": "code",
   "execution_count": 76,
   "metadata": {
    "ExecuteTime": {
     "end_time": "2018-10-26T02:24:35.893800Z",
     "start_time": "2018-10-26T02:24:35.875235Z"
    }
   },
   "outputs": [
    {
     "ename": "KeyError",
     "evalue": "3.0937931",
     "output_type": "error",
     "traceback": [
      "\u001b[0;31m---------------------------------------------------------------------------\u001b[0m",
      "\u001b[0;31mKeyError\u001b[0m                                  Traceback (most recent call last)",
      "\u001b[0;32m<ipython-input-76-0633ab392384>\u001b[0m in \u001b[0;36m<module>\u001b[0;34m()\u001b[0m\n\u001b[0;32m----> 1\u001b[0;31m \u001b[0mevery_clique\u001b[0m \u001b[0;34m=\u001b[0m \u001b[0mget_modularity_from_cluster\u001b[0m\u001b[0;34m(\u001b[0m\u001b[0mG\u001b[0m\u001b[0;34m,\u001b[0m \u001b[0mgc\u001b[0m\u001b[0;34m.\u001b[0m\u001b[0msolutions\u001b[0m\u001b[0;34m[\u001b[0m\u001b[0;36m3.0937931\u001b[0m\u001b[0;34m]\u001b[0m\u001b[0;34m)\u001b[0m\u001b[0;34m\u001b[0m\u001b[0m\n\u001b[0m\u001b[1;32m      2\u001b[0m \u001b[0mevery_two_clique\u001b[0m \u001b[0;34m=\u001b[0m \u001b[0mget_modularity_from_cluster\u001b[0m\u001b[0;34m(\u001b[0m\u001b[0mG\u001b[0m\u001b[0;34m,\u001b[0m \u001b[0mmodularity_cluster\u001b[0m\u001b[0;34m)\u001b[0m\u001b[0;34m\u001b[0m\u001b[0m\n\u001b[1;32m      3\u001b[0m \u001b[0mprint\u001b[0m\u001b[0;34m(\u001b[0m\u001b[0;34m'Modularity of grouping every clique: '\u001b[0m\u001b[0;34m,\u001b[0m \u001b[0mevery_clique\u001b[0m\u001b[0;34m)\u001b[0m\u001b[0;34m\u001b[0m\u001b[0m\n\u001b[1;32m      4\u001b[0m \u001b[0mprint\u001b[0m\u001b[0;34m(\u001b[0m\u001b[0;34m'Modularity of grouping every two consecutive clique: '\u001b[0m\u001b[0;34m,\u001b[0m \u001b[0mevery_two_clique\u001b[0m\u001b[0;34m)\u001b[0m\u001b[0;34m\u001b[0m\u001b[0m\n\u001b[1;32m      5\u001b[0m \u001b[0mprint\u001b[0m\u001b[0;34m(\u001b[0m\u001b[0;34m'Modularity of grouping every two clique is larger than the modularity of grouping every clique: '\u001b[0m\u001b[0;34m,\u001b[0m \u001b[0mevery_two_clique\u001b[0m\u001b[0;34m>\u001b[0m\u001b[0mevery_clique\u001b[0m\u001b[0;34m)\u001b[0m\u001b[0;34m\u001b[0m\u001b[0m\n",
      "\u001b[0;31mKeyError\u001b[0m: 3.0937931"
     ]
    }
   ],
   "source": [
    "every_clique = get_modularity_from_cluster(G, gc.solutions[3.0937931])\n",
    "every_two_clique = get_modularity_from_cluster(G, modularity_cluster)\n",
    "print('Modularity of grouping every clique: ', every_clique)\n",
    "print('Modularity of grouping every two consecutive clique: ', every_two_clique)\n",
    "print('Modularity of grouping every two clique is larger than the modularity of grouping every clique: ', every_two_clique>every_clique)\n",
    "\n",
    "# Modularity is higher if we group two consecutive cluster together, but seperating every clique is desired."
   ]
  },
  {
   "cell_type": "markdown",
   "metadata": {},
   "source": [
    "### Web community"
   ]
  },
  {
   "cell_type": "code",
   "execution_count": 77,
   "metadata": {
    "ExecuteTime": {
     "end_time": "2018-10-26T02:24:36.086808Z",
     "start_time": "2018-10-26T02:24:35.895105Z"
    }
   },
   "outputs": [
    {
     "data": {
      "image/png": "[encoded data removed]",
      "text/plain": [
       "<Figure size 432x288 with 1 Axes>"
      ]
     },
     "metadata": {},
     "output_type": "display_data"
    },
    {
     "data": {
      "text/plain": [
       "<Figure size 432x288 with 0 Axes>"
      ]
     },
     "metadata": {},
     "output_type": "display_data"
    }
   ],
   "source": [
    "G = nx.grid_graph([7, 7])\n",
    "T = G.copy()\n",
    "for i, j in G.edges:\n",
    "    if (i[1]==0 and j[1]==0 and T.has_edge(i, j)) or \\\n",
    "        (i[1]==1 and j[1]==1 and T.has_edge(i, j)) or \\\n",
    "        (i[1]==5 and j[1]==5 and T.has_edge(i, j)) or \\\n",
    "        (i[1]==6 and j[1]==6 and T.has_edge(i, j)) or \\\n",
    "        (i[0]==0 and j[0]==0 and T.has_edge(i, j)) or \\\n",
    "        (i[0]==1 and j[0]==1 and T.has_edge(i, j)) or \\\n",
    "        (i[0]==5 and j[0]==5 and T.has_edge(i, j)) or \\\n",
    "        (i[0]==6 and j[0]==6 and T.has_edge(i, j)):\n",
    "        # remove first column\n",
    "        T.remove_edge(i, j)\n",
    "T.remove_node((0,0))\n",
    "T.remove_node((0,1))\n",
    "T.remove_node((1,0))\n",
    "T.remove_node((1,1))\n",
    "\n",
    "T.remove_node((0,5))\n",
    "T.remove_node((0,6))\n",
    "T.remove_node((1,5))\n",
    "T.remove_node((1,6))\n",
    "# last column top and bottom\n",
    "T.remove_node((5,0))\n",
    "T.remove_node((6,0))\n",
    "T.remove_node((5,1))\n",
    "T.remove_node((6,1))\n",
    "\n",
    "T.remove_node((5,5))\n",
    "T.remove_node((6,6))\n",
    "T.remove_node((5,6))\n",
    "T.remove_node((6,5))\n",
    "T.number_of_edges()\n",
    "\n",
    "# add weight\n",
    "nx.set_edge_attributes(T, 1, 'weight')\n",
    "web_center_row_column = [2,3,4]\n",
    "for i, j in T.edges:\n",
    "    if (i[0] in web_center_row_column) \\\n",
    "    and (i[1] in web_center_row_column) \\\n",
    "    and (j[0] in web_center_row_column) \\\n",
    "    and (j[1] in web_center_row_column):\n",
    "        T[i][j]['weight'] = 1\n",
    "# relabel the nodes\n",
    "k = 0\n",
    "pos = {}\n",
    "for node in sorted([i for i in T], key=lambda element: (element[0], -element[1]))[::-1]:\n",
    "    pos[k] = ([node[1], node[0]])\n",
    "    T = nx.relabel_nodes(T, {node: k})\n",
    "    k += 1\n",
    "G=T.copy()\n",
    "nx.draw_networkx_labels(G,pos=pos,labels={i:i for i in (G)},font_size=13)\n",
    "nx.draw(G,pos=pos, node_color='w')\n",
    "plt.show()\n",
    "plt.clf()"
   ]
  },
  {
   "cell_type": "code",
   "execution_count": 78,
   "metadata": {
    "ExecuteTime": {
     "end_time": "2018-10-26T02:24:36.270901Z",
     "start_time": "2018-10-26T02:24:36.088906Z"
    }
   },
   "outputs": [
    {
     "name": "stderr",
     "output_type": "stream",
     "text": [
      "[Parallel(n_jobs=1)]: Done  33 out of  33 | elapsed:    0.2s finished\n",
      "[Parallel(n_jobs=1)]: Done  24 out of  24 | elapsed:    0.2s finished\n",
      "[Parallel(n_jobs=1)]: Done  12 out of  12 | elapsed:    0.0s finished\n",
      "[Parallel(n_jobs=1)]: Done   9 out of   9 | elapsed:    0.0s finished\n"
     ]
    }
   ],
   "source": [
    "abcomm = abcommunity.ABCommunity(G=G, beta=0.8)\n",
    "abcomm.fit()"
   ]
  },
  {
   "cell_type": "code",
   "execution_count": 23,
   "metadata": {
    "ExecuteTime": {
     "end_time": "2018-10-26T02:24:36.275918Z",
     "start_time": "2018-10-26T02:24:36.272391Z"
    }
   },
   "outputs": [
    {
     "name": "stdout",
     "output_type": "stream",
     "text": [
      "alpha:  0.0\n",
      "cluster:  [{0, 1, 2, 3, 4, 5, 6, 7, 8, 9, 10, 11, 12, 13, 14, 15, 16, 17, 18, 19, 20, 21, 22, 23, 24, 25, 26, 27, 28, 29, 30, 31, 32}]\n",
      "\n",
      "alpha:  1.7\n",
      "cluster:  [{30}, {8, 9, 10, 15, 16, 17, 22, 23, 24}, {20}, {32}, {13}, {11}, {25}, {14}, {4}, {21}, {26}, {19}, {7}, {5}, {3}, {0}, {6}, {28}, {18}, {1}, {31}, {12}, {29}, {2}, {27}]\n",
      "\n",
      "alpha:  2.2\n",
      "cluster:  [{25}, {21}, {26}, {19}, {16}, {22}, {9}, {7}, {5}, {10}, {3}, {0}, {28}, {29}, {2}, {30}, {20}, {32}, {15}, {13}, {11}, {8}, {14}, {23}, {4}, {17}, {6}, {18}, {1}, {31}, {12}, {27}, {24}]\n",
      "\n"
     ]
    }
   ],
   "source": [
    "print_solution(abcomm.solutions)"
   ]
  },
  {
   "cell_type": "markdown",
   "metadata": {},
   "source": [
    "# Web Spider Graph with 2 web center"
   ]
  },
  {
   "cell_type": "code",
   "execution_count": 25,
   "metadata": {
    "ExecuteTime": {
     "end_time": "2018-10-26T02:24:36.484411Z",
     "start_time": "2018-10-26T02:24:36.324499Z"
    }
   },
   "outputs": [
    {
     "data": {
      "image/png": "[encoded data removed]",
      "text/plain": [
       "<Figure size 432x288 with 1 Axes>"
      ]
     },
     "metadata": {},
     "output_type": "display_data"
    }
   ],
   "source": [
    "G = nx.grid_graph([10, 5])\n",
    "T = G.copy()\n",
    "for i, j in G.edges:\n",
    "    if (i[1]==0 and j[1]==0) or\\\n",
    "    (i[1]==9 and j[1]==9) or\\\n",
    "    (i[1]==4 and j[1]==4) or\\\n",
    "    (i[1]==5 and j[1]==5) or\\\n",
    "    (i[0]==0 and j[0]==0) or\\\n",
    "    (i[0]==4 and j[0]==4):\n",
    "        # remove first column\n",
    "        # remove last column\n",
    "        # remove middle column\n",
    "        # remove first row\n",
    "        # remove last row\n",
    "        T.remove_edge(i, j)\n",
    "# first column top and bottom two node\n",
    "T.remove_node((0,0))\n",
    "T.remove_node((4,0))\n",
    "# middle column top and bottom two node\n",
    "T.remove_node((0,4))\n",
    "T.remove_node((4,4))\n",
    "T.remove_node((0,5))\n",
    "T.remove_node((4,5))\n",
    "# last column top and bottom two node\n",
    "T.remove_node((0,9))\n",
    "T.remove_node((4,9))\n",
    "T.number_of_edges()\n",
    "\n",
    "k = 0\n",
    "pos = {}\n",
    "for node in sorted([i for i in T], key=lambda element: (element[0], -element[1]))[::-1]:\n",
    "    pos[k] = ([node[1], node[0]])\n",
    "    T = nx.relabel_nodes(T, {node: k})\n",
    "    k += 1\n",
    "G=T.copy()\n",
    "labels = {}\n",
    "nx.draw_networkx_labels(G,pos=pos,labels={i:i for i in (G)},font_size=13)\n",
    "nx.draw(G,pos=pos, node_color='w')\n",
    "plt.show()"
   ]
  },
  {
   "cell_type": "code",
   "execution_count": 26,
   "metadata": {
    "ExecuteTime": {
     "end_time": "2018-10-26T02:24:36.841504Z",
     "start_time": "2018-10-26T02:24:36.486226Z"
    }
   },
   "outputs": [
    {
     "name": "stderr",
     "output_type": "stream",
     "text": [
      "[Parallel(n_jobs=1)]: Done  42 out of  42 | elapsed:    0.2s finished\n",
      "[Parallel(n_jobs=1)]: Done  18 out of  18 | elapsed:    0.0s finished\n",
      "[Parallel(n_jobs=1)]: Done  24 out of  24 | elapsed:    0.1s finished\n",
      "[Parallel(n_jobs=1)]: Done  18 out of  18 | elapsed:    0.0s finished\n"
     ]
    }
   ],
   "source": [
    "abcomm = abcommunity.ABCommunity(G=G, beta=0.8)\n",
    "abcomm.fit()"
   ]
  },
  {
   "cell_type": "code",
   "execution_count": 27,
   "metadata": {
    "ExecuteTime": {
     "end_time": "2018-10-26T02:24:36.847298Z",
     "start_time": "2018-10-26T02:24:36.842839Z"
    }
   },
   "outputs": [
    {
     "name": "stdout",
     "output_type": "stream",
     "text": [
      "alpha:  0.0\n",
      "cluster:  [{0, 1, 2, 3, 4, 5, 6, 7, 8, 9, 10, 11, 12, 13, 14, 15, 16, 17, 18, 19, 20, 21, 22, 23, 24, 25, 26, 27, 28, 29, 30, 31, 32, 33, 34, 35, 36, 37, 38, 39, 40, 41}]\n",
      "\n",
      "alpha:  1.8\n",
      "cluster:  [{39}, {37}, {35}, {38}, {15}, {25}, {4}, {26}, {16}, {5}, {3}, {0}, {6}, {40}, {36}, {7, 8, 9, 10, 11, 12, 13, 14, 17, 18, 19, 20, 21, 22, 23, 24, 27, 28, 29, 30, 31, 32, 33, 34}, {1}, {2}, {41}]\n",
      "\n",
      "alpha:  2.15652174\n",
      "cluster:  [{30}, {39}, {20}, {37}, {35}, {38}, {15}, {11}, {25}, {32, 33, 34, 12, 13, 14, 22, 23, 24}, {4}, {21}, {26}, {16}, {5}, {10}, {3}, {0}, {7, 8, 9, 17, 18, 19, 27, 28, 29}, {6}, {40}, {36}, {1}, {31}, {2}, {41}]\n",
      "\n",
      "alpha:  2.2\n",
      "cluster:  [{38}, {25}, {21}, {26}, {19}, {16}, {33}, {22}, {9}, {7}, {5}, {10}, {3}, {0}, {28}, {29}, {2}, {41}, {30}, {39}, {20}, {37}, {35}, {32}, {15}, {13}, {11}, {8}, {14}, {23}, {4}, {34}, {17}, {6}, {18}, {40}, {36}, {1}, {31}, {12}, {27}, {24}]\n",
      "\n"
     ]
    }
   ],
   "source": [
    "print_solution(abcomm.solutions)"
   ]
  }
 ],
 "metadata": {
  "kernelspec": {
   "display_name": "Python 3",
   "language": "python",
   "name": "python3"
  },
  "language_info": {
   "codemirror_mode": {
    "name": "ipython",
    "version": 3
   },
   "file_extension": ".py",
   "mimetype": "text/x-python",
   "name": "python",
   "nbconvert_exporter": "python",
   "pygments_lexer": "ipython3",
   "version": "3.6.6"
  },
  "toc": {
   "nav_menu": {},
   "number_sections": true,
   "sideBar": true,
   "skip_h1_title": false,
   "title_cell": "Table of Contents",
   "title_sidebar": "Contents",
   "toc_cell": false,
   "toc_position": {},
   "toc_section_display": true,
   "toc_window_display": false
  }
 },
 "nbformat": 4,
 "nbformat_minor": 2
}
