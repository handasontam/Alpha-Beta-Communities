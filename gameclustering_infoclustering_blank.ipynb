{
 "cells": [
  {
   "cell_type": "markdown",
   "metadata": {},
   "source": [
    "# Info-clustering and Game-Clustering\n",
    "This is a demonstration of the info-clustering and game-clustering algorithm reduced to weighted graphs. You may use the binder service to run this notebook.\n",
    "\n"
   ]
  },
  {
   "cell_type": "markdown",
   "metadata": {},
   "source": [
    "## Preliminaries"
   ]
  },
  {
   "cell_type": "markdown",
   "metadata": {},
   "source": [
    "Run the following cell to import the required library."
   ]
  },
  {
   "cell_type": "code",
   "execution_count": null,
   "metadata": {
    "ExecuteTime": {
     "end_time": "2018-10-26T02:24:33.148842Z",
     "start_time": "2018-10-26T02:24:32.773018Z"
    },
    "scrolled": true
   },
   "outputs": [],
   "source": [
    "import game_clustering\n",
    "import infoclustering\n",
    "import networkx as nx\n",
    "import numpy as np\n",
    "import matplotlib.pyplot as plt\n",
    "%matplotlib inline"
   ]
  },
  {
   "cell_type": "markdown",
   "metadata": {},
   "source": [
    "The following are functions that help present the clustering solutions. You can modify them to show the results according to your preferences."
   ]
  },
  {
   "cell_type": "code",
   "execution_count": null,
   "metadata": {
    "ExecuteTime": {
     "end_time": "2018-10-26T02:24:33.159769Z",
     "start_time": "2018-10-26T02:24:33.150473Z"
    }
   },
   "outputs": [],
   "source": [
    "def get_modularity_from_cluster(G, cluster):\n",
    "    get_id_from_vertex = {}\n",
    "    for i, v in enumerate(G.nodes):\n",
    "        get_id_from_vertex[v] = i\n",
    "    # map node id to index id (the node may not start from zero, continuous from 0 to |N|, e.t.c)\n",
    "    cluster = [[get_id_from_vertex[v] for v in c] for c in cluster]\n",
    "    # cluster is a list of list\n",
    "    B = nx.modularity_matrix(G)\n",
    "    modularity = 0\n",
    "    for community in cluster:\n",
    "        c = list(community)\n",
    "        modularity += np.sum(B[c][:, c])\n",
    "    modularity = modularity / (2 * G.number_of_edges())\n",
    "    return modularity\n",
    "\n",
    "def print_game_solution(game_solution_dict):\n",
    "    # solution_dict is a dictionary, keys are the tensile strength, values are the corresponding cluster\n",
    "    for alpha, cluster in sorted(game_solution_dict.items()):\n",
    "        print('alpha: ', alpha)\n",
    "        print('cluster: ', [set(community) for community in cluster])\n",
    "        print()\n",
    "        \n",
    "def print_info_solution(info_solution_dict):\n",
    "    for i, ((gamma_1, gamma_2), cluster) in enumerate(sorted(info_solution_dict.items())):\n",
    "        if i == 0:\n",
    "            print('for MMI in (', gamma_1, ', ', gamma_2, ']')\n",
    "        else:\n",
    "            print('for MMI in (', gamma_1, ', ', gamma_2, ']')\n",
    "        print([set(community) for community in cluster])\n",
    "        print()"
   ]
  },
  {
   "cell_type": "markdown",
   "metadata": {},
   "source": [
    "## Examples\n",
    "We can now run the clustering algorithms on some simple examples and compare them with other algorithms."
   ]
  },
  {
   "cell_type": "markdown",
   "metadata": {},
   "source": [
    "### A simple graph with a triangle and a line"
   ]
  },
  {
   "cell_type": "markdown",
   "metadata": {},
   "source": [
    "The following defines a digraph and its undirected counterpart."
   ]
  },
  {
   "cell_type": "code",
   "execution_count": null,
   "metadata": {
    "ExecuteTime": {
     "end_time": "2018-10-26T02:24:33.193145Z",
     "start_time": "2018-10-26T02:24:33.184513Z"
    }
   },
   "outputs": [],
   "source": [
    "D = nx.DiGraph()\n",
    "D.add_edges_from([(0, 1, {'weight': 1}), \n",
    "                   (1, 2, {'weight': 1}), \n",
    "                   (2, 0, {'weight': 1}), \n",
    "                   (3, 4, {'weight': 1})])\n",
    "G = D.to_undirected()"
   ]
  },
  {
   "cell_type": "markdown",
   "metadata": {},
   "source": [
    "#### Info-clustering on the undirected graph"
   ]
  },
  {
   "cell_type": "markdown",
   "metadata": {},
   "source": [
    "To run the info-clustering algorithm:"
   ]
  },
  {
   "cell_type": "code",
   "execution_count": null,
   "metadata": {},
   "outputs": [],
   "source": [
    "ic = infoclustering.InfoClustering(G=G)\n",
    "ic.fit()"
   ]
  },
  {
   "cell_type": "markdown",
   "metadata": {},
   "source": [
    "To obtain the documentation:"
   ]
  },
  {
   "cell_type": "code",
   "execution_count": null,
   "metadata": {
    "scrolled": true
   },
   "outputs": [],
   "source": [
    "help(ic)"
   ]
  },
  {
   "cell_type": "markdown",
   "metadata": {},
   "source": [
    "The clusters are stored in the following object:"
   ]
  },
  {
   "cell_type": "code",
   "execution_count": null,
   "metadata": {},
   "outputs": [],
   "source": [
    "ic.solutions"
   ]
  },
  {
   "cell_type": "markdown",
   "metadata": {},
   "source": [
    "Note that, other than the trivial clusters (singleton sets or the trival sets), info-clustering returns the desired clusters {3,4} and {0,1,2}. Let's pretty-print the solution using the helper function defined before."
   ]
  },
  {
   "cell_type": "code",
   "execution_count": null,
   "metadata": {},
   "outputs": [],
   "source": [
    "print_info_solution(ic.solutions)"
   ]
  },
  {
   "cell_type": "markdown",
   "metadata": {},
   "source": [
    "#### Game-clustering on the digraph"
   ]
  },
  {
   "cell_type": "markdown",
   "metadata": {},
   "source": [
    "To run the game-clustering:"
   ]
  },
  {
   "cell_type": "code",
   "execution_count": null,
   "metadata": {
    "ExecuteTime": {
     "end_time": "2018-10-26T02:24:33.203931Z",
     "start_time": "2018-10-26T02:24:33.194605Z"
    },
    "scrolled": true
   },
   "outputs": [],
   "source": [
    "gc = game_clustering.GameClustering(G=D, beta=1, weight='weight')\n",
    "gc.fit()"
   ]
  },
  {
   "cell_type": "markdown",
   "metadata": {},
   "source": [
    "To obtain the documentation:"
   ]
  },
  {
   "cell_type": "code",
   "execution_count": null,
   "metadata": {
    "scrolled": true
   },
   "outputs": [],
   "source": [
    "help(gc)"
   ]
  },
  {
   "cell_type": "markdown",
   "metadata": {},
   "source": [
    "To get the clustering solution:"
   ]
  },
  {
   "cell_type": "code",
   "execution_count": null,
   "metadata": {
    "ExecuteTime": {
     "end_time": "2018-10-26T02:24:33.226924Z",
     "start_time": "2018-10-26T02:24:33.220007Z"
    }
   },
   "outputs": [],
   "source": [
    "gc.solutions"
   ]
  },
  {
   "cell_type": "markdown",
   "metadata": {},
   "source": [
    "We can again pretty print the solution using the helper function defined earlier:"
   ]
  },
  {
   "cell_type": "code",
   "execution_count": null,
   "metadata": {
    "ExecuteTime": {
     "end_time": "2018-10-26T02:24:33.234546Z",
     "start_time": "2018-10-26T02:24:33.228587Z"
    }
   },
   "outputs": [],
   "source": [
    "print_game_solution(gc.solutions)"
   ]
  },
  {
   "cell_type": "markdown",
   "metadata": {},
   "source": [
    "### Game-clustering vs Info-clustering\n",
    "The following example shows that game-clustering can depend on the direction of the links, unlike info-clustering. "
   ]
  },
  {
   "cell_type": "code",
   "execution_count": null,
   "metadata": {
    "ExecuteTime": {
     "end_time": "2018-10-26T02:24:33.259293Z",
     "start_time": "2018-10-26T02:24:33.251993Z"
    }
   },
   "outputs": [],
   "source": [
    "D = nx.DiGraph()\n",
    "D.add_edges_from([(1, 0, {'weight': 2}), \n",
    "                   (1, 2, {'weight': 1}), \n",
    "                   (2, 1, {'weight': 1})])\n",
    "G = nx.Graph()\n",
    "G.add_edges_from([(1, 0, {'weight': 2}), \n",
    "                   (1, 2, {'weight': 2})])"
   ]
  },
  {
   "cell_type": "markdown",
   "metadata": {},
   "source": [
    "Note that we need a separate definition for the undirected graph because `to_undirected` only keeps one of the two directed edges (1,2) and (2,1), instead of merging them into an undirected edge."
   ]
  },
  {
   "cell_type": "code",
   "execution_count": null,
   "metadata": {},
   "outputs": [],
   "source": [
    "ic = infoclustering.InfoClustering(G=G)\n",
    "ic.fit()\n",
    "print_info_solution(ic.solutions)"
   ]
  },
  {
   "cell_type": "markdown",
   "metadata": {},
   "source": [
    "Note that info-clustering does not return any non-trivial community."
   ]
  },
  {
   "cell_type": "code",
   "execution_count": null,
   "metadata": {
    "ExecuteTime": {
     "end_time": "2018-10-26T02:24:33.282404Z",
     "start_time": "2018-10-26T02:24:33.272102Z"
    },
    "scrolled": true
   },
   "outputs": [],
   "source": [
    "gc = game_clustering.GameClustering(G=D, beta=0, weight='weight')\n",
    "gc.fit()\n",
    "print_game_solution(gc.solutions)"
   ]
  },
  {
   "cell_type": "markdown",
   "metadata": {},
   "source": [
    "Game-clustering, on the contrary, returns the community {1,2}, which has more internal links than external incoming links."
   ]
  },
  {
   "cell_type": "markdown",
   "metadata": {},
   "source": [
    "### Ring Of Cliques"
   ]
  },
  {
   "cell_type": "code",
   "execution_count": null,
   "metadata": {
    "ExecuteTime": {
     "end_time": "2018-10-26T02:24:33.296946Z",
     "start_time": "2018-10-26T02:24:33.292287Z"
    }
   },
   "outputs": [],
   "source": [
    "G = nx.ring_of_cliques(num_cliques=30, clique_size=5)"
   ]
  },
  {
   "cell_type": "code",
   "execution_count": null,
   "metadata": {
    "ExecuteTime": {
     "end_time": "2018-10-26T02:24:35.195254Z",
     "start_time": "2018-10-26T02:24:33.298231Z"
    }
   },
   "outputs": [],
   "source": [
    "gc = game_clustering.GameClustering(G=G, beta=1)\n",
    "gc.fit()"
   ]
  },
  {
   "cell_type": "code",
   "execution_count": null,
   "metadata": {
    "ExecuteTime": {
     "end_time": "2018-10-26T02:24:35.200510Z",
     "start_time": "2018-10-26T02:24:35.196715Z"
    }
   },
   "outputs": [],
   "source": [
    "print_game_solution(gc.solutions)"
   ]
  },
  {
   "cell_type": "code",
   "execution_count": null,
   "metadata": {
    "ExecuteTime": {
     "end_time": "2018-10-26T02:24:35.855470Z",
     "start_time": "2018-10-26T02:24:35.201671Z"
    }
   },
   "outputs": [],
   "source": [
    "# for info-clustering\n",
    "ic = infoclustering.InfoClustering(G=G)\n",
    "ic.fit()\n",
    "print_info_solution(IC.solutions)"
   ]
  },
  {
   "cell_type": "code",
   "execution_count": null,
   "metadata": {
    "ExecuteTime": {
     "end_time": "2018-10-26T02:24:35.873909Z",
     "start_time": "2018-10-26T02:24:35.856709Z"
    }
   },
   "outputs": [],
   "source": [
    "# greedy modularity\n",
    "modularity_cluster = nx.algorithms.community.modularity_max.greedy_modularity_communities(G)\n",
    "modularity_cluster\n",
    "\n",
    "# modularity approach will group 2 consecutive cliques together"
   ]
  },
  {
   "cell_type": "code",
   "execution_count": null,
   "metadata": {
    "ExecuteTime": {
     "end_time": "2018-10-26T02:24:35.893800Z",
     "start_time": "2018-10-26T02:24:35.875235Z"
    }
   },
   "outputs": [],
   "source": [
    "every_clique = get_modularity_from_cluster(G, gc.solutions[3.0937931])\n",
    "every_two_clique = get_modularity_from_cluster(G, modularity_cluster)\n",
    "print('Modularity of grouping every clique: ', every_clique)\n",
    "print('Modularity of grouping every two consecutive clique: ', every_two_clique)\n",
    "print('Modularity of grouping every two clique is larger than the modularity of grouping every clique: ', every_two_clique>every_clique)\n",
    "\n",
    "# Modularity is higher if we group two consecutive cluster together, but seperating every clique is desired."
   ]
  },
  {
   "cell_type": "markdown",
   "metadata": {},
   "source": [
    "### Web community"
   ]
  },
  {
   "cell_type": "code",
   "execution_count": null,
   "metadata": {
    "ExecuteTime": {
     "end_time": "2018-10-26T02:24:36.086808Z",
     "start_time": "2018-10-26T02:24:35.895105Z"
    }
   },
   "outputs": [],
   "source": [
    "G = nx.grid_graph([7, 7])\n",
    "T = G.copy()\n",
    "for i, j in G.edges:\n",
    "    if (i[1]==0 and j[1]==0 and T.has_edge(i, j)) or \\\n",
    "        (i[1]==1 and j[1]==1 and T.has_edge(i, j)) or \\\n",
    "        (i[1]==5 and j[1]==5 and T.has_edge(i, j)) or \\\n",
    "        (i[1]==6 and j[1]==6 and T.has_edge(i, j)) or \\\n",
    "        (i[0]==0 and j[0]==0 and T.has_edge(i, j)) or \\\n",
    "        (i[0]==1 and j[0]==1 and T.has_edge(i, j)) or \\\n",
    "        (i[0]==5 and j[0]==5 and T.has_edge(i, j)) or \\\n",
    "        (i[0]==6 and j[0]==6 and T.has_edge(i, j)):\n",
    "        # remove first column\n",
    "        T.remove_edge(i, j)\n",
    "T.remove_node((0,0))\n",
    "T.remove_node((0,1))\n",
    "T.remove_node((1,0))\n",
    "T.remove_node((1,1))\n",
    "\n",
    "T.remove_node((0,5))\n",
    "T.remove_node((0,6))\n",
    "T.remove_node((1,5))\n",
    "T.remove_node((1,6))\n",
    "# last column top and bottom\n",
    "T.remove_node((5,0))\n",
    "T.remove_node((6,0))\n",
    "T.remove_node((5,1))\n",
    "T.remove_node((6,1))\n",
    "\n",
    "T.remove_node((5,5))\n",
    "T.remove_node((6,6))\n",
    "T.remove_node((5,6))\n",
    "T.remove_node((6,5))\n",
    "T.number_of_edges()\n",
    "\n",
    "# add weight\n",
    "nx.set_edge_attributes(T, 1, 'weight')\n",
    "web_center_row_column = [2,3,4]\n",
    "for i, j in T.edges:\n",
    "    if (i[0] in web_center_row_column) \\\n",
    "    and (i[1] in web_center_row_column) \\\n",
    "    and (j[0] in web_center_row_column) \\\n",
    "    and (j[1] in web_center_row_column):\n",
    "        T[i][j]['weight'] = 1\n",
    "# relabel the nodes\n",
    "k = 0\n",
    "pos = {}\n",
    "for node in sorted([i for i in T], key=lambda element: (element[0], -element[1]))[::-1]:\n",
    "    pos[k] = ([node[1], node[0]])\n",
    "    T = nx.relabel_nodes(T, {node: k})\n",
    "    k += 1\n",
    "G=T.copy()\n",
    "nx.draw_networkx_labels(G,pos=pos,labels={i:i for i in (G)},font_size=13)\n",
    "nx.draw(G,pos=pos, node_color='w')\n",
    "plt.show()\n",
    "plt.clf()"
   ]
  },
  {
   "cell_type": "code",
   "execution_count": null,
   "metadata": {
    "ExecuteTime": {
     "end_time": "2018-10-26T02:24:36.270901Z",
     "start_time": "2018-10-26T02:24:36.088906Z"
    }
   },
   "outputs": [],
   "source": [
    "gc = game_clustering.GameClustering(G=G, beta=0.8)\n",
    "gc.fit()"
   ]
  },
  {
   "cell_type": "code",
   "execution_count": null,
   "metadata": {
    "ExecuteTime": {
     "end_time": "2018-10-26T02:24:36.275918Z",
     "start_time": "2018-10-26T02:24:36.272391Z"
    }
   },
   "outputs": [],
   "source": [
    "print_game_solution(gc.solutions)"
   ]
  },
  {
   "cell_type": "code",
   "execution_count": null,
   "metadata": {
    "ExecuteTime": {
     "end_time": "2018-10-26T02:24:36.322872Z",
     "start_time": "2018-10-26T02:24:36.277642Z"
    }
   },
   "outputs": [],
   "source": [
    "# for info-clustering\n",
    "IC = infoclustering.InfoClustering(G=G)\n",
    "IC.fit()\n",
    "print_info_solution(IC.solutions)"
   ]
  },
  {
   "cell_type": "markdown",
   "metadata": {},
   "source": [
    "# Web Spider Graph with 2 web center"
   ]
  },
  {
   "cell_type": "code",
   "execution_count": null,
   "metadata": {
    "ExecuteTime": {
     "end_time": "2018-10-26T02:24:36.484411Z",
     "start_time": "2018-10-26T02:24:36.324499Z"
    }
   },
   "outputs": [],
   "source": [
    "G = nx.grid_graph([10, 5])\n",
    "T = G.copy()\n",
    "for i, j in G.edges:\n",
    "    if (i[1]==0 and j[1]==0) or\\\n",
    "    (i[1]==9 and j[1]==9) or\\\n",
    "    (i[1]==4 and j[1]==4) or\\\n",
    "    (i[1]==5 and j[1]==5) or\\\n",
    "    (i[0]==0 and j[0]==0) or\\\n",
    "    (i[0]==4 and j[0]==4):\n",
    "        # remove first column\n",
    "        # remove last column\n",
    "        # remove middle column\n",
    "        # remove first row\n",
    "        # remove last row\n",
    "        T.remove_edge(i, j)\n",
    "# first column top and bottom two node\n",
    "T.remove_node((0,0))\n",
    "T.remove_node((4,0))\n",
    "# middle column top and bottom two node\n",
    "T.remove_node((0,4))\n",
    "T.remove_node((4,4))\n",
    "T.remove_node((0,5))\n",
    "T.remove_node((4,5))\n",
    "# last column top and bottom two node\n",
    "T.remove_node((0,9))\n",
    "T.remove_node((4,9))\n",
    "T.number_of_edges()\n",
    "\n",
    "k = 0\n",
    "pos = {}\n",
    "for node in sorted([i for i in T], key=lambda element: (element[0], -element[1]))[::-1]:\n",
    "    pos[k] = ([node[1], node[0]])\n",
    "    T = nx.relabel_nodes(T, {node: k})\n",
    "    k += 1\n",
    "G=T.copy()\n",
    "labels = {}\n",
    "nx.draw_networkx_labels(G,pos=pos,labels={i:i for i in (G)},font_size=13)\n",
    "nx.draw(G,pos=pos, node_color='w')\n",
    "plt.show()"
   ]
  },
  {
   "cell_type": "code",
   "execution_count": null,
   "metadata": {
    "ExecuteTime": {
     "end_time": "2018-10-26T02:24:36.841504Z",
     "start_time": "2018-10-26T02:24:36.486226Z"
    }
   },
   "outputs": [],
   "source": [
    "gc = game_clustering.GameClustering(G=G, beta=0.8)\n",
    "gc.fit()"
   ]
  },
  {
   "cell_type": "code",
   "execution_count": null,
   "metadata": {
    "ExecuteTime": {
     "end_time": "2018-10-26T02:24:36.847298Z",
     "start_time": "2018-10-26T02:24:36.842839Z"
    }
   },
   "outputs": [],
   "source": [
    "print_game_solution(gc.solutions)"
   ]
  },
  {
   "cell_type": "code",
   "execution_count": null,
   "metadata": {
    "ExecuteTime": {
     "end_time": "2018-10-26T02:24:36.973202Z",
     "start_time": "2018-10-26T02:24:36.848643Z"
    }
   },
   "outputs": [],
   "source": [
    "# for info-clustering\n",
    "IC = infoclustering.InfoClustering(G=G)\n",
    "IC.fit()\n",
    "print_info_solution(IC.solutions)"
   ]
  }
 ],
 "metadata": {
  "kernelspec": {
   "display_name": "Python 3",
   "language": "python",
   "name": "python3"
  },
  "language_info": {
   "codemirror_mode": {
    "name": "ipython",
    "version": 3
   },
   "file_extension": ".py",
   "mimetype": "text/x-python",
   "name": "python",
   "nbconvert_exporter": "python",
   "pygments_lexer": "ipython3",
   "version": "3.6.6"
  },
  "toc": {
   "nav_menu": {},
   "number_sections": true,
   "sideBar": true,
   "skip_h1_title": false,
   "title_cell": "Table of Contents",
   "title_sidebar": "Contents",
   "toc_cell": false,
   "toc_position": {},
   "toc_section_display": true,
   "toc_window_display": false
  }
 },
 "nbformat": 4,
 "nbformat_minor": 2
}
